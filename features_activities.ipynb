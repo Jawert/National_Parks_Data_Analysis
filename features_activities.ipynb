{
 "cells": [
  {
   "cell_type": "code",
   "execution_count": 3,
   "id": "theoretical-science",
   "metadata": {},
   "outputs": [],
   "source": [
    "import pandas as pd\n",
    "import ast\n",
    "import re"
   ]
  },
  {
   "cell_type": "code",
   "execution_count": 4,
   "id": "adequate-collect",
   "metadata": {},
   "outputs": [],
   "source": [
    "#load the dataset in to a dataframe\n",
    "parks_data=pd.read_csv('national_park_trails.csv')"
   ]
  },
  {
   "cell_type": "code",
   "execution_count": 6,
   "id": "elementary-evanescence",
   "metadata": {},
   "outputs": [],
   "source": [
    "#split off features and activities into lists of unique values\n",
    "unique_features=[]\n",
    "unique_activities=[]\n",
    "for index, row in parks_data.iterrows():\n",
    "    features=ast.literal_eval(row['features'])\n",
    "    activities=ast.literal_eval(row['activities'])\n",
    "    for feature in features:\n",
    "        if feature not in unique_features:\n",
    "            unique_features.append(feature)\n",
    "    for activity in activities:\n",
    "        if activity not in unique_activities:\n",
    "            unique_activities.append(activity)\n"
   ]
  },
  {
   "cell_type": "code",
   "execution_count": 10,
   "id": "violent-bridge",
   "metadata": {},
   "outputs": [],
   "source": [
    "#writing each list to a file for later use\n",
    "with open('unique_features.txt', 'w') as uf:\n",
    "    uf.write(str(unique_features))\n",
    "\n",
    "with open('unique_activities.txt', 'w') as ua:\n",
    "    ua.write(str(unique_activities))"
   ]
  }
 ],
 "metadata": {
  "kernelspec": {
   "display_name": "Python 3",
   "language": "python",
   "name": "python3"
  },
  "language_info": {
   "codemirror_mode": {
    "name": "ipython",
    "version": 3
   },
   "file_extension": ".py",
   "mimetype": "text/x-python",
   "name": "python",
   "nbconvert_exporter": "python",
   "pygments_lexer": "ipython3",
   "version": "3.8.8"
  }
 },
 "nbformat": 4,
 "nbformat_minor": 5
}
