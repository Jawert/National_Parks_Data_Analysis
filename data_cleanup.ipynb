{
 "cells": [
  {
   "cell_type": "code",
   "execution_count": 3,
   "id": "utility-fault",
   "metadata": {},
   "outputs": [],
   "source": [
    "import pandas as pd\n",
    "import ast\n",
    "import re"
   ]
  },
  {
   "cell_type": "code",
   "execution_count": 4,
   "id": "maritime-income",
   "metadata": {},
   "outputs": [],
   "source": [
    "#load the dataset in to a dataframe\n",
    "parks_data=pd.read_csv('national_park_trails.csv')"
   ]
  },
  {
   "cell_type": "code",
   "execution_count": 6,
   "id": "downtown-revision",
   "metadata": {},
   "outputs": [],
   "source": [
    "#split off features into list of unique values\n",
    "unique_features=[]\n",
    "for index, row in parks_data.iterrows():\n",
    "    features=ast.literal_eval(row['features'])\n",
    "    for feature in features:\n",
    "        if feature not in unique_features:\n",
    "            unique_features.append(feature)\n"
   ]
  },
  {
   "cell_type": "code",
   "execution_count": 1,
   "id": "beginning-premises",
   "metadata": {},
   "outputs": [],
   "source": [
    "#split off activities into list of unique values\n",
    "unique_activities=[]\n",
    "for index, row in parks_data.iterrows():\n",
    "    activities=ast.literal_eval(row['activities'])\n",
    "    for activity in activities:\n",
    "        if activity not in unique_activities:\n",
    "            unique_activities.append(activity)\n"
   ]
  },
  {
   "cell_type": "code",
   "execution_count": null,
   "id": "fresh-shopper",
   "metadata": {},
   "outputs": [],
   "source": [
    "#extracting lat/lon from each into a list\n",
    "latlist=[]\n",
    "lonlist=[]\n",
    "for index,row in parks_data.iterrows():\n",
    "    lat_lon_dict=ast.literal_eval(row['_geoloc'])\n",
    "    lat=lat_lon_dict['lat']\n",
    "    lon=lat_lon_dict['lng']\n",
    "    latlist.append(lat)\n",
    "    lonlist.append(lon)"
   ]
  },
  {
   "cell_type": "code",
   "execution_count": null,
   "id": "employed-titanium",
   "metadata": {},
   "outputs": [],
   "source": [
    "#adding separate lat and lon columns to parks_data and inserting the data\n",
    "parks_data['lat']=latlist\n",
    "parks_data['lon']=lonlist"
   ]
  },
  {
   "cell_type": "code",
   "execution_count": null,
   "id": "animal-volleyball",
   "metadata": {},
   "outputs": [],
   "source": [
    "#verifying that the insertion worked correctly\n",
    "correct_count=0\n",
    "for index, row in parks_data.iterrows():\n",
    "    geoloc_dict=ast.literal_eval(row['_geoloc'])\n",
    "    geoloc_lat=geoloc_dict['lat']\n",
    "    geoloc_lon=geoloc_dict['lng']\n",
    "    if row['lat']==geoloc_lat and row['lon']==geoloc_lon:\n",
    "        correct_count +=1\n",
    "    else:\n",
    "        print('lat/lon disagreement for ' + row['name'])\n",
    "print(correct_count)"
   ]
  },
  {
   "cell_type": "code",
   "execution_count": null,
   "id": "specialized-lottery",
   "metadata": {},
   "outputs": [],
   "source": [
    "#seeing that the above worked, dropping the _geoloc column from the dataframe\n",
    "parks_data.drop(columns=['_geoloc'])"
   ]
  },
  {
   "cell_type": "code",
   "execution_count": 10,
   "id": "solved-increase",
   "metadata": {},
   "outputs": [],
   "source": [
    "#writing each list to a file for later use\n",
    "with open('unique_features.txt', 'w') as uf:\n",
    "    uf.write(str(unique_features))\n",
    "\n",
    "with open('unique_activities.txt', 'w') as ua:\n",
    "    ua.write(str(unique_activities))\n",
    "    \n",
    "#writing parks_data with separate lat/lon to a new csv to preserve original dataset\n",
    "parks_data.to_csv('national_park_trails_rev2.csv')"
   ]
  },
  {
   "cell_type": "code",
   "execution_count": null,
   "id": "ethical-knitting",
   "metadata": {},
   "outputs": [],
   "source": [
    "#importing the new sheet to double check\n",
    "parks_data_rev2=pd.read_csv('national_park_trails_rev2.csv')\n",
    "parks_data_rev2"
   ]
  }
 ],
 "metadata": {
  "kernelspec": {
   "display_name": "Python 3",
   "language": "python",
   "name": "python3"
  },
  "language_info": {
   "codemirror_mode": {
    "name": "ipython",
    "version": 3
   },
   "file_extension": ".py",
   "mimetype": "text/x-python",
   "name": "python",
   "nbconvert_exporter": "python",
   "pygments_lexer": "ipython3",
   "version": "3.8.8"
  }
 },
 "nbformat": 4,
 "nbformat_minor": 5
}
